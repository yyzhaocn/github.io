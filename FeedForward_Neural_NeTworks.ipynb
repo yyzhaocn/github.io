{
  "nbformat": 4,
  "nbformat_minor": 0,
  "metadata": {
    "colab": {
      "name": "FeedForward Neural NeTworks.ipynb",
      "provenance": [],
      "authorship_tag": "ABX9TyN+O22+/VYhttOTUeeuMcve",
      "include_colab_link": true
    },
    "kernelspec": {
      "name": "python3",
      "display_name": "Python 3"
    },
    "language_info": {
      "name": "python"
    }
  },
  "cells": [
    {
      "cell_type": "markdown",
      "metadata": {
        "id": "view-in-github",
        "colab_type": "text"
      },
      "source": [
        "<a href=\"https://colab.research.google.com/github/yyzhaocn/yyzhaocn.github.io/blob/master/FeedForward_Neural_NeTworks.ipynb\" target=\"_parent\"><img src=\"https://colab.research.google.com/assets/colab-badge.svg\" alt=\"Open In Colab\"/></a>"
      ]
    },
    {
      "cell_type": "code",
      "metadata": {
        "colab": {
          "base_uri": "https://localhost:8080/"
        },
        "id": "V5eklgZctsi6",
        "outputId": "9fb1e25a-e2b8-4de2-ed5b-8c64c2cd92ba"
      },
      "source": [
        "!pip install -q git+https://github.com/tensorflow/docsb"
      ],
      "execution_count": 1,
      "outputs": [
        {
          "output_type": "stream",
          "text": [
            "\u001b[?25l\r\u001b[K     |▎                               | 10kB 16.7MB/s eta 0:00:01\r\u001b[K     |▋                               | 20kB 15.4MB/s eta 0:00:01\r\u001b[K     |█                               | 30kB 7.9MB/s eta 0:00:01\r\u001b[K     |█▎                              | 40kB 8.1MB/s eta 0:00:01\r\u001b[K     |█▋                              | 51kB 4.5MB/s eta 0:00:01\r\u001b[K     |██                              | 61kB 4.8MB/s eta 0:00:01\r\u001b[K     |██▎                             | 71kB 5.1MB/s eta 0:00:01\r\u001b[K     |██▋                             | 81kB 5.1MB/s eta 0:00:01\r\u001b[K     |██▉                             | 92kB 5.3MB/s eta 0:00:01\r\u001b[K     |███▏                            | 102kB 4.2MB/s eta 0:00:01\r\u001b[K     |███▌                            | 112kB 4.2MB/s eta 0:00:01\r\u001b[K     |███▉                            | 122kB 4.2MB/s eta 0:00:01\r\u001b[K     |████▏                           | 133kB 4.2MB/s eta 0:00:01\r\u001b[K     |████▌                           | 143kB 4.2MB/s eta 0:00:01\r\u001b[K     |████▉                           | 153kB 4.2MB/s eta 0:00:01\r\u001b[K     |█████▏                          | 163kB 4.2MB/s eta 0:00:01\r\u001b[K     |█████▍                          | 174kB 4.2MB/s eta 0:00:01\r\u001b[K     |█████▊                          | 184kB 4.2MB/s eta 0:00:01\r\u001b[K     |██████                          | 194kB 4.2MB/s eta 0:00:01\r\u001b[K     |██████▍                         | 204kB 4.2MB/s eta 0:00:01\r\u001b[K     |██████▊                         | 215kB 4.2MB/s eta 0:00:01\r\u001b[K     |███████                         | 225kB 4.2MB/s eta 0:00:01\r\u001b[K     |███████▍                        | 235kB 4.2MB/s eta 0:00:01\r\u001b[K     |███████▊                        | 245kB 4.2MB/s eta 0:00:01\r\u001b[K     |████████                        | 256kB 4.2MB/s eta 0:00:01\r\u001b[K     |████████▎                       | 266kB 4.2MB/s eta 0:00:01\r\u001b[K     |████████▋                       | 276kB 4.2MB/s eta 0:00:01\r\u001b[K     |█████████                       | 286kB 4.2MB/s eta 0:00:01\r\u001b[K     |█████████▎                      | 296kB 4.2MB/s eta 0:00:01\r\u001b[K     |█████████▋                      | 307kB 4.2MB/s eta 0:00:01\r\u001b[K     |██████████                      | 317kB 4.2MB/s eta 0:00:01\r\u001b[K     |██████████▎                     | 327kB 4.2MB/s eta 0:00:01\r\u001b[K     |██████████▋                     | 337kB 4.2MB/s eta 0:00:01\r\u001b[K     |██████████▉                     | 348kB 4.2MB/s eta 0:00:01\r\u001b[K     |███████████▏                    | 358kB 4.2MB/s eta 0:00:01\r\u001b[K     |███████████▌                    | 368kB 4.2MB/s eta 0:00:01\r\u001b[K     |███████████▉                    | 378kB 4.2MB/s eta 0:00:01\r\u001b[K     |████████████▏                   | 389kB 4.2MB/s eta 0:00:01\r\u001b[K     |████████████▌                   | 399kB 4.2MB/s eta 0:00:01\r\u001b[K     |████████████▉                   | 409kB 4.2MB/s eta 0:00:01\r\u001b[K     |█████████████▏                  | 419kB 4.2MB/s eta 0:00:01\r\u001b[K     |█████████████▌                  | 430kB 4.2MB/s eta 0:00:01\r\u001b[K     |█████████████▊                  | 440kB 4.2MB/s eta 0:00:01\r\u001b[K     |██████████████                  | 450kB 4.2MB/s eta 0:00:01\r\u001b[K     |██████████████▍                 | 460kB 4.2MB/s eta 0:00:01\r\u001b[K     |██████████████▊                 | 471kB 4.2MB/s eta 0:00:01\r\u001b[K     |███████████████                 | 481kB 4.2MB/s eta 0:00:01\r\u001b[K     |███████████████▍                | 491kB 4.2MB/s eta 0:00:01\r\u001b[K     |███████████████▊                | 501kB 4.2MB/s eta 0:00:01\r\u001b[K     |████████████████                | 512kB 4.2MB/s eta 0:00:01\r\u001b[K     |████████████████▎               | 522kB 4.2MB/s eta 0:00:01\r\u001b[K     |████████████████▋               | 532kB 4.2MB/s eta 0:00:01\r\u001b[K     |█████████████████               | 542kB 4.2MB/s eta 0:00:01\r\u001b[K     |█████████████████▎              | 552kB 4.2MB/s eta 0:00:01\r\u001b[K     |█████████████████▋              | 563kB 4.2MB/s eta 0:00:01\r\u001b[K     |██████████████████              | 573kB 4.2MB/s eta 0:00:01\r\u001b[K     |██████████████████▎             | 583kB 4.2MB/s eta 0:00:01\r\u001b[K     |██████████████████▋             | 593kB 4.2MB/s eta 0:00:01\r\u001b[K     |███████████████████             | 604kB 4.2MB/s eta 0:00:01\r\u001b[K     |███████████████████▏            | 614kB 4.2MB/s eta 0:00:01\r\u001b[K     |███████████████████▌            | 624kB 4.2MB/s eta 0:00:01\r\u001b[K     |███████████████████▉            | 634kB 4.2MB/s eta 0:00:01\r\u001b[K     |████████████████████▏           | 645kB 4.2MB/s eta 0:00:01\r\u001b[K     |████████████████████▌           | 655kB 4.2MB/s eta 0:00:01\r\u001b[K     |████████████████████▉           | 665kB 4.2MB/s eta 0:00:01\r\u001b[K     |█████████████████████▏          | 675kB 4.2MB/s eta 0:00:01\r\u001b[K     |█████████████████████▌          | 686kB 4.2MB/s eta 0:00:01\r\u001b[K     |█████████████████████▊          | 696kB 4.2MB/s eta 0:00:01\r\u001b[K     |██████████████████████          | 706kB 4.2MB/s eta 0:00:01\r\u001b[K     |██████████████████████▍         | 716kB 4.2MB/s eta 0:00:01\r\u001b[K     |██████████████████████▊         | 727kB 4.2MB/s eta 0:00:01\r\u001b[K     |███████████████████████         | 737kB 4.2MB/s eta 0:00:01\r\u001b[K     |███████████████████████▍        | 747kB 4.2MB/s eta 0:00:01\r\u001b[K     |███████████████████████▊        | 757kB 4.2MB/s eta 0:00:01\r\u001b[K     |████████████████████████        | 768kB 4.2MB/s eta 0:00:01\r\u001b[K     |████████████████████████▍       | 778kB 4.2MB/s eta 0:00:01\r\u001b[K     |████████████████████████▋       | 788kB 4.2MB/s eta 0:00:01\r\u001b[K     |█████████████████████████       | 798kB 4.2MB/s eta 0:00:01\r\u001b[K     |█████████████████████████▎      | 808kB 4.2MB/s eta 0:00:01\r\u001b[K     |█████████████████████████▋      | 819kB 4.2MB/s eta 0:00:01\r\u001b[K     |██████████████████████████      | 829kB 4.2MB/s eta 0:00:01\r\u001b[K     |██████████████████████████▎     | 839kB 4.2MB/s eta 0:00:01\r\u001b[K     |██████████████████████████▋     | 849kB 4.2MB/s eta 0:00:01\r\u001b[K     |███████████████████████████     | 860kB 4.2MB/s eta 0:00:01\r\u001b[K     |███████████████████████████▏    | 870kB 4.2MB/s eta 0:00:01\r\u001b[K     |███████████████████████████▌    | 880kB 4.2MB/s eta 0:00:01\r\u001b[K     |███████████████████████████▉    | 890kB 4.2MB/s eta 0:00:01\r\u001b[K     |████████████████████████████▏   | 901kB 4.2MB/s eta 0:00:01\r\u001b[K     |████████████████████████████▌   | 911kB 4.2MB/s eta 0:00:01\r\u001b[K     |████████████████████████████▉   | 921kB 4.2MB/s eta 0:00:01\r\u001b[K     |█████████████████████████████▏  | 931kB 4.2MB/s eta 0:00:01\r\u001b[K     |█████████████████████████████▌  | 942kB 4.2MB/s eta 0:00:01\r\u001b[K     |█████████████████████████████▉  | 952kB 4.2MB/s eta 0:00:01\r\u001b[K     |██████████████████████████████  | 962kB 4.2MB/s eta 0:00:01\r\u001b[K     |██████████████████████████████▍ | 972kB 4.2MB/s eta 0:00:01\r\u001b[K     |██████████████████████████████▊ | 983kB 4.2MB/s eta 0:00:01\r\u001b[K     |███████████████████████████████ | 993kB 4.2MB/s eta 0:00:01\r\u001b[K     |███████████████████████████████▍| 1.0MB 4.2MB/s eta 0:00:01\r\u001b[K     |███████████████████████████████▊| 1.0MB 4.2MB/s eta 0:00:01\r\u001b[K     |████████████████████████████████| 1.0MB 4.2MB/s \n",
            "\u001b[?25h  Building wheel for tensorflow-docs (setup.py) ... \u001b[?25l\u001b[?25hdone\n"
          ],
          "name": "stdout"
        }
      ]
    },
    {
      "cell_type": "code",
      "metadata": {
        "id": "9W0XMV-Xt85w"
      },
      "source": [
        "import tensorflow as tf\n",
        "import pandas as pd\n",
        "import numpy as np\n",
        "import matplotlib.pyplot as plt\n"
      ],
      "execution_count": 2,
      "outputs": []
    },
    {
      "cell_type": "code",
      "metadata": {
        "colab": {
          "base_uri": "https://localhost:8080/"
        },
        "id": "fIz3xOJbuYxZ",
        "outputId": "b27c9f05-db80-43d7-d3e5-5a7a296d7e9a"
      },
      "source": [
        "autompg = tf.keras.utils.get_file(\n",
        "        fname='auto-mpg', #filename for local directory\n",
        "        origin='http://archive.ics.uci.edu/ml/machine-learning-databases/auto-mpg/auto-mpg.data')"
      ],
      "execution_count": 7,
      "outputs": [
        {
          "output_type": "stream",
          "text": [
            "Downloading data from http://archive.ics.uci.edu/ml/machine-learning-databases/auto-mpg/auto-mpg.data\n",
            "32768/30286 [================================] - 0s 2us/step\n"
          ],
          "name": "stdout"
        }
      ]
    },
    {
      "cell_type": "code",
      "metadata": {
        "id": "paDX84h2uQbB"
      },
      "source": [
        "column_names = ['mpg', 'cylinders', 'displacement', 'HP',\n",
        "'weight', 'acceleration', 'modelyear', 'origin']\n",
        "df = pd.read_csv(autompg, # name of the csv file\n",
        "        sep=\" \", # separator in the csv file\n",
        "        comment='\\t', #remove car name sep. with '\\t'\n",
        "        names=column_names,\n",
        "        na_values = '?', #NA values are coded as '?'\n",
        "        skipinitialspace=True)\n"
      ],
      "execution_count": 18,
      "outputs": []
    },
    {
      "cell_type": "code",
      "metadata": {
        "colab": {
          "base_uri": "https://localhost:8080/"
        },
        "id": "h7_P3p51wtX1",
        "outputId": "36244c68-51c3-40fe-dcf9-43739e563817"
      },
      "source": [
        "df.shape"
      ],
      "execution_count": 19,
      "outputs": [
        {
          "output_type": "execute_result",
          "data": {
            "text/plain": [
              "(398, 8)"
            ]
          },
          "metadata": {
            "tags": []
          },
          "execution_count": 19
        }
      ]
    },
    {
      "cell_type": "code",
      "metadata": {
        "colab": {
          "base_uri": "https://localhost:8080/"
        },
        "id": "EmDETOeVut0l",
        "outputId": "b2944a37-88ff-42b0-dbdb-740d26f0b428"
      },
      "source": [
        "df.isna().sum()"
      ],
      "execution_count": 14,
      "outputs": [
        {
          "output_type": "execute_result",
          "data": {
            "text/plain": [
              "mpg             0\n",
              "cylinders       0\n",
              "displacement    0\n",
              "HP              6\n",
              "weight          0\n",
              "acceleration    0\n",
              "modelyear       0\n",
              "origin          0\n",
              "dtype: int64"
            ]
          },
          "metadata": {
            "tags": []
          },
          "execution_count": 14
        }
      ]
    },
    {
      "cell_type": "code",
      "metadata": {
        "colab": {
          "base_uri": "https://localhost:8080/",
          "height": 419
        },
        "id": "T5n3v7xIwjBA",
        "outputId": "ab06e239-ff16-4eed-af4a-4a87b4b7d92e"
      },
      "source": [
        "df = df.dropna() # Drop null values\n",
        "df = df.reset_index(drop=True)\n",
        "df"
      ],
      "execution_count": 20,
      "outputs": [
        {
          "output_type": "execute_result",
          "data": {
            "text/html": [
              "<div>\n",
              "<style scoped>\n",
              "    .dataframe tbody tr th:only-of-type {\n",
              "        vertical-align: middle;\n",
              "    }\n",
              "\n",
              "    .dataframe tbody tr th {\n",
              "        vertical-align: top;\n",
              "    }\n",
              "\n",
              "    .dataframe thead th {\n",
              "        text-align: right;\n",
              "    }\n",
              "</style>\n",
              "<table border=\"1\" class=\"dataframe\">\n",
              "  <thead>\n",
              "    <tr style=\"text-align: right;\">\n",
              "      <th></th>\n",
              "      <th>mpg</th>\n",
              "      <th>cylinders</th>\n",
              "      <th>displacement</th>\n",
              "      <th>HP</th>\n",
              "      <th>weight</th>\n",
              "      <th>acceleration</th>\n",
              "      <th>modelyear</th>\n",
              "      <th>origin</th>\n",
              "    </tr>\n",
              "  </thead>\n",
              "  <tbody>\n",
              "    <tr>\n",
              "      <th>0</th>\n",
              "      <td>18.0</td>\n",
              "      <td>8</td>\n",
              "      <td>307.0</td>\n",
              "      <td>130.0</td>\n",
              "      <td>3504.0</td>\n",
              "      <td>12.0</td>\n",
              "      <td>70</td>\n",
              "      <td>1</td>\n",
              "    </tr>\n",
              "    <tr>\n",
              "      <th>1</th>\n",
              "      <td>15.0</td>\n",
              "      <td>8</td>\n",
              "      <td>350.0</td>\n",
              "      <td>165.0</td>\n",
              "      <td>3693.0</td>\n",
              "      <td>11.5</td>\n",
              "      <td>70</td>\n",
              "      <td>1</td>\n",
              "    </tr>\n",
              "    <tr>\n",
              "      <th>2</th>\n",
              "      <td>18.0</td>\n",
              "      <td>8</td>\n",
              "      <td>318.0</td>\n",
              "      <td>150.0</td>\n",
              "      <td>3436.0</td>\n",
              "      <td>11.0</td>\n",
              "      <td>70</td>\n",
              "      <td>1</td>\n",
              "    </tr>\n",
              "    <tr>\n",
              "      <th>3</th>\n",
              "      <td>16.0</td>\n",
              "      <td>8</td>\n",
              "      <td>304.0</td>\n",
              "      <td>150.0</td>\n",
              "      <td>3433.0</td>\n",
              "      <td>12.0</td>\n",
              "      <td>70</td>\n",
              "      <td>1</td>\n",
              "    </tr>\n",
              "    <tr>\n",
              "      <th>4</th>\n",
              "      <td>17.0</td>\n",
              "      <td>8</td>\n",
              "      <td>302.0</td>\n",
              "      <td>140.0</td>\n",
              "      <td>3449.0</td>\n",
              "      <td>10.5</td>\n",
              "      <td>70</td>\n",
              "      <td>1</td>\n",
              "    </tr>\n",
              "    <tr>\n",
              "      <th>...</th>\n",
              "      <td>...</td>\n",
              "      <td>...</td>\n",
              "      <td>...</td>\n",
              "      <td>...</td>\n",
              "      <td>...</td>\n",
              "      <td>...</td>\n",
              "      <td>...</td>\n",
              "      <td>...</td>\n",
              "    </tr>\n",
              "    <tr>\n",
              "      <th>387</th>\n",
              "      <td>27.0</td>\n",
              "      <td>4</td>\n",
              "      <td>140.0</td>\n",
              "      <td>86.0</td>\n",
              "      <td>2790.0</td>\n",
              "      <td>15.6</td>\n",
              "      <td>82</td>\n",
              "      <td>1</td>\n",
              "    </tr>\n",
              "    <tr>\n",
              "      <th>388</th>\n",
              "      <td>44.0</td>\n",
              "      <td>4</td>\n",
              "      <td>97.0</td>\n",
              "      <td>52.0</td>\n",
              "      <td>2130.0</td>\n",
              "      <td>24.6</td>\n",
              "      <td>82</td>\n",
              "      <td>2</td>\n",
              "    </tr>\n",
              "    <tr>\n",
              "      <th>389</th>\n",
              "      <td>32.0</td>\n",
              "      <td>4</td>\n",
              "      <td>135.0</td>\n",
              "      <td>84.0</td>\n",
              "      <td>2295.0</td>\n",
              "      <td>11.6</td>\n",
              "      <td>82</td>\n",
              "      <td>1</td>\n",
              "    </tr>\n",
              "    <tr>\n",
              "      <th>390</th>\n",
              "      <td>28.0</td>\n",
              "      <td>4</td>\n",
              "      <td>120.0</td>\n",
              "      <td>79.0</td>\n",
              "      <td>2625.0</td>\n",
              "      <td>18.6</td>\n",
              "      <td>82</td>\n",
              "      <td>1</td>\n",
              "    </tr>\n",
              "    <tr>\n",
              "      <th>391</th>\n",
              "      <td>31.0</td>\n",
              "      <td>4</td>\n",
              "      <td>119.0</td>\n",
              "      <td>82.0</td>\n",
              "      <td>2720.0</td>\n",
              "      <td>19.4</td>\n",
              "      <td>82</td>\n",
              "      <td>1</td>\n",
              "    </tr>\n",
              "  </tbody>\n",
              "</table>\n",
              "<p>392 rows × 8 columns</p>\n",
              "</div>"
            ],
            "text/plain": [
              "      mpg  cylinders  displacement  ...  acceleration  modelyear  origin\n",
              "0    18.0          8         307.0  ...          12.0         70       1\n",
              "1    15.0          8         350.0  ...          11.5         70       1\n",
              "2    18.0          8         318.0  ...          11.0         70       1\n",
              "3    16.0          8         304.0  ...          12.0         70       1\n",
              "4    17.0          8         302.0  ...          10.5         70       1\n",
              "..    ...        ...           ...  ...           ...        ...     ...\n",
              "387  27.0          4         140.0  ...          15.6         82       1\n",
              "388  44.0          4          97.0  ...          24.6         82       2\n",
              "389  32.0          4         135.0  ...          11.6         82       1\n",
              "390  28.0          4         120.0  ...          18.6         82       1\n",
              "391  31.0          4         119.0  ...          19.4         82       1\n",
              "\n",
              "[392 rows x 8 columns]"
            ]
          },
          "metadata": {
            "tags": []
          },
          "execution_count": 20
        }
      ]
    },
    {
      "cell_type": "code",
      "metadata": {
        "colab": {
          "base_uri": "https://localhost:8080/"
        },
        "id": "Yu49H3fbwwCW",
        "outputId": "7e6eccf7-fe23-414e-daf8-b80bab3a48e4"
      },
      "source": [
        "df.info()"
      ],
      "execution_count": 21,
      "outputs": [
        {
          "output_type": "stream",
          "text": [
            "<class 'pandas.core.frame.DataFrame'>\n",
            "RangeIndex: 392 entries, 0 to 391\n",
            "Data columns (total 8 columns):\n",
            " #   Column        Non-Null Count  Dtype  \n",
            "---  ------        --------------  -----  \n",
            " 0   mpg           392 non-null    float64\n",
            " 1   cylinders     392 non-null    int64  \n",
            " 2   displacement  392 non-null    float64\n",
            " 3   HP            392 non-null    float64\n",
            " 4   weight        392 non-null    float64\n",
            " 5   acceleration  392 non-null    float64\n",
            " 6   modelyear     392 non-null    int64  \n",
            " 7   origin        392 non-null    int64  \n",
            "dtypes: float64(5), int64(3)\n",
            "memory usage: 24.6 KB\n"
          ],
          "name": "stdout"
        }
      ]
    },
    {
      "cell_type": "code",
      "metadata": {
        "id": "1ZQHZNKnw5Ms"
      },
      "source": [
        "\n",
        "def one_hot_origin_encoder(df):\n",
        "        df_copy = df.copy()\n",
        "        df_copy['EU']=df_copy['origin'].map({1:0,2:1,3:0})\n",
        "        df_copy['Japan']=df_copy['origin'].map({1:0,2:0,3:1})\n",
        "        df_copy = df_copy.drop('origin',axis=1)\n",
        "        return df_copy\n",
        "df_clean = one_hot_origin_encoder(df)"
      ],
      "execution_count": 22,
      "outputs": []
    },
    {
      "cell_type": "code",
      "metadata": {
        "colab": {
          "base_uri": "https://localhost:8080/",
          "height": 419
        },
        "id": "8Yj9RQlFw7SS",
        "outputId": "72d2fe9d-5707-483a-96e1-6667c5bcce05"
      },
      "source": [
        "df_clean"
      ],
      "execution_count": 23,
      "outputs": [
        {
          "output_type": "execute_result",
          "data": {
            "text/html": [
              "<div>\n",
              "<style scoped>\n",
              "    .dataframe tbody tr th:only-of-type {\n",
              "        vertical-align: middle;\n",
              "    }\n",
              "\n",
              "    .dataframe tbody tr th {\n",
              "        vertical-align: top;\n",
              "    }\n",
              "\n",
              "    .dataframe thead th {\n",
              "        text-align: right;\n",
              "    }\n",
              "</style>\n",
              "<table border=\"1\" class=\"dataframe\">\n",
              "  <thead>\n",
              "    <tr style=\"text-align: right;\">\n",
              "      <th></th>\n",
              "      <th>mpg</th>\n",
              "      <th>cylinders</th>\n",
              "      <th>displacement</th>\n",
              "      <th>HP</th>\n",
              "      <th>weight</th>\n",
              "      <th>acceleration</th>\n",
              "      <th>modelyear</th>\n",
              "      <th>EU</th>\n",
              "      <th>Japan</th>\n",
              "    </tr>\n",
              "  </thead>\n",
              "  <tbody>\n",
              "    <tr>\n",
              "      <th>0</th>\n",
              "      <td>18.0</td>\n",
              "      <td>8</td>\n",
              "      <td>307.0</td>\n",
              "      <td>130.0</td>\n",
              "      <td>3504.0</td>\n",
              "      <td>12.0</td>\n",
              "      <td>70</td>\n",
              "      <td>0</td>\n",
              "      <td>0</td>\n",
              "    </tr>\n",
              "    <tr>\n",
              "      <th>1</th>\n",
              "      <td>15.0</td>\n",
              "      <td>8</td>\n",
              "      <td>350.0</td>\n",
              "      <td>165.0</td>\n",
              "      <td>3693.0</td>\n",
              "      <td>11.5</td>\n",
              "      <td>70</td>\n",
              "      <td>0</td>\n",
              "      <td>0</td>\n",
              "    </tr>\n",
              "    <tr>\n",
              "      <th>2</th>\n",
              "      <td>18.0</td>\n",
              "      <td>8</td>\n",
              "      <td>318.0</td>\n",
              "      <td>150.0</td>\n",
              "      <td>3436.0</td>\n",
              "      <td>11.0</td>\n",
              "      <td>70</td>\n",
              "      <td>0</td>\n",
              "      <td>0</td>\n",
              "    </tr>\n",
              "    <tr>\n",
              "      <th>3</th>\n",
              "      <td>16.0</td>\n",
              "      <td>8</td>\n",
              "      <td>304.0</td>\n",
              "      <td>150.0</td>\n",
              "      <td>3433.0</td>\n",
              "      <td>12.0</td>\n",
              "      <td>70</td>\n",
              "      <td>0</td>\n",
              "      <td>0</td>\n",
              "    </tr>\n",
              "    <tr>\n",
              "      <th>4</th>\n",
              "      <td>17.0</td>\n",
              "      <td>8</td>\n",
              "      <td>302.0</td>\n",
              "      <td>140.0</td>\n",
              "      <td>3449.0</td>\n",
              "      <td>10.5</td>\n",
              "      <td>70</td>\n",
              "      <td>0</td>\n",
              "      <td>0</td>\n",
              "    </tr>\n",
              "    <tr>\n",
              "      <th>...</th>\n",
              "      <td>...</td>\n",
              "      <td>...</td>\n",
              "      <td>...</td>\n",
              "      <td>...</td>\n",
              "      <td>...</td>\n",
              "      <td>...</td>\n",
              "      <td>...</td>\n",
              "      <td>...</td>\n",
              "      <td>...</td>\n",
              "    </tr>\n",
              "    <tr>\n",
              "      <th>387</th>\n",
              "      <td>27.0</td>\n",
              "      <td>4</td>\n",
              "      <td>140.0</td>\n",
              "      <td>86.0</td>\n",
              "      <td>2790.0</td>\n",
              "      <td>15.6</td>\n",
              "      <td>82</td>\n",
              "      <td>0</td>\n",
              "      <td>0</td>\n",
              "    </tr>\n",
              "    <tr>\n",
              "      <th>388</th>\n",
              "      <td>44.0</td>\n",
              "      <td>4</td>\n",
              "      <td>97.0</td>\n",
              "      <td>52.0</td>\n",
              "      <td>2130.0</td>\n",
              "      <td>24.6</td>\n",
              "      <td>82</td>\n",
              "      <td>1</td>\n",
              "      <td>0</td>\n",
              "    </tr>\n",
              "    <tr>\n",
              "      <th>389</th>\n",
              "      <td>32.0</td>\n",
              "      <td>4</td>\n",
              "      <td>135.0</td>\n",
              "      <td>84.0</td>\n",
              "      <td>2295.0</td>\n",
              "      <td>11.6</td>\n",
              "      <td>82</td>\n",
              "      <td>0</td>\n",
              "      <td>0</td>\n",
              "    </tr>\n",
              "    <tr>\n",
              "      <th>390</th>\n",
              "      <td>28.0</td>\n",
              "      <td>4</td>\n",
              "      <td>120.0</td>\n",
              "      <td>79.0</td>\n",
              "      <td>2625.0</td>\n",
              "      <td>18.6</td>\n",
              "      <td>82</td>\n",
              "      <td>0</td>\n",
              "      <td>0</td>\n",
              "    </tr>\n",
              "    <tr>\n",
              "      <th>391</th>\n",
              "      <td>31.0</td>\n",
              "      <td>4</td>\n",
              "      <td>119.0</td>\n",
              "      <td>82.0</td>\n",
              "      <td>2720.0</td>\n",
              "      <td>19.4</td>\n",
              "      <td>82</td>\n",
              "      <td>0</td>\n",
              "      <td>0</td>\n",
              "    </tr>\n",
              "  </tbody>\n",
              "</table>\n",
              "<p>392 rows × 9 columns</p>\n",
              "</div>"
            ],
            "text/plain": [
              "      mpg  cylinders  displacement     HP  ...  acceleration  modelyear  EU  Japan\n",
              "0    18.0          8         307.0  130.0  ...          12.0         70   0      0\n",
              "1    15.0          8         350.0  165.0  ...          11.5         70   0      0\n",
              "2    18.0          8         318.0  150.0  ...          11.0         70   0      0\n",
              "3    16.0          8         304.0  150.0  ...          12.0         70   0      0\n",
              "4    17.0          8         302.0  140.0  ...          10.5         70   0      0\n",
              "..    ...        ...           ...    ...  ...           ...        ...  ..    ...\n",
              "387  27.0          4         140.0   86.0  ...          15.6         82   0      0\n",
              "388  44.0          4          97.0   52.0  ...          24.6         82   1      0\n",
              "389  32.0          4         135.0   84.0  ...          11.6         82   0      0\n",
              "390  28.0          4         120.0   79.0  ...          18.6         82   0      0\n",
              "391  31.0          4         119.0   82.0  ...          19.4         82   0      0\n",
              "\n",
              "[392 rows x 9 columns]"
            ]
          },
          "metadata": {
            "tags": []
          },
          "execution_count": 23
        }
      ]
    },
    {
      "cell_type": "code",
      "metadata": {
        "id": "3EjmNpyaxG9h"
      },
      "source": [
        "train = df_clean.sample(frac=0.8,random_state=0)\n",
        "train_x = train.drop('mpg',axis=1)\n",
        "train_y = train['mpg']\n",
        "# For Testing\n",
        "test = df_clean.drop(train.index)\n",
        "test_x = test.drop('mpg',axis=1)\n",
        "test_y = test['mpg']"
      ],
      "execution_count": 24,
      "outputs": []
    },
    {
      "cell_type": "code",
      "metadata": {
        "colab": {
          "base_uri": "https://localhost:8080/",
          "height": 419
        },
        "id": "RX6Nlp6yxIh5",
        "outputId": "222f8f4e-3ca6-4099-fda0-16005505220b"
      },
      "source": [
        "train"
      ],
      "execution_count": 25,
      "outputs": [
        {
          "output_type": "execute_result",
          "data": {
            "text/html": [
              "<div>\n",
              "<style scoped>\n",
              "    .dataframe tbody tr th:only-of-type {\n",
              "        vertical-align: middle;\n",
              "    }\n",
              "\n",
              "    .dataframe tbody tr th {\n",
              "        vertical-align: top;\n",
              "    }\n",
              "\n",
              "    .dataframe thead th {\n",
              "        text-align: right;\n",
              "    }\n",
              "</style>\n",
              "<table border=\"1\" class=\"dataframe\">\n",
              "  <thead>\n",
              "    <tr style=\"text-align: right;\">\n",
              "      <th></th>\n",
              "      <th>mpg</th>\n",
              "      <th>cylinders</th>\n",
              "      <th>displacement</th>\n",
              "      <th>HP</th>\n",
              "      <th>weight</th>\n",
              "      <th>acceleration</th>\n",
              "      <th>modelyear</th>\n",
              "      <th>EU</th>\n",
              "      <th>Japan</th>\n",
              "    </tr>\n",
              "  </thead>\n",
              "  <tbody>\n",
              "    <tr>\n",
              "      <th>144</th>\n",
              "      <td>28.0</td>\n",
              "      <td>4</td>\n",
              "      <td>90.0</td>\n",
              "      <td>75.0</td>\n",
              "      <td>2125.0</td>\n",
              "      <td>14.5</td>\n",
              "      <td>74</td>\n",
              "      <td>0</td>\n",
              "      <td>0</td>\n",
              "    </tr>\n",
              "    <tr>\n",
              "      <th>280</th>\n",
              "      <td>22.3</td>\n",
              "      <td>4</td>\n",
              "      <td>140.0</td>\n",
              "      <td>88.0</td>\n",
              "      <td>2890.0</td>\n",
              "      <td>17.3</td>\n",
              "      <td>79</td>\n",
              "      <td>0</td>\n",
              "      <td>0</td>\n",
              "    </tr>\n",
              "    <tr>\n",
              "      <th>68</th>\n",
              "      <td>12.0</td>\n",
              "      <td>8</td>\n",
              "      <td>350.0</td>\n",
              "      <td>160.0</td>\n",
              "      <td>4456.0</td>\n",
              "      <td>13.5</td>\n",
              "      <td>72</td>\n",
              "      <td>0</td>\n",
              "      <td>0</td>\n",
              "    </tr>\n",
              "    <tr>\n",
              "      <th>372</th>\n",
              "      <td>38.0</td>\n",
              "      <td>4</td>\n",
              "      <td>105.0</td>\n",
              "      <td>63.0</td>\n",
              "      <td>2125.0</td>\n",
              "      <td>14.7</td>\n",
              "      <td>82</td>\n",
              "      <td>0</td>\n",
              "      <td>0</td>\n",
              "    </tr>\n",
              "    <tr>\n",
              "      <th>328</th>\n",
              "      <td>33.8</td>\n",
              "      <td>4</td>\n",
              "      <td>97.0</td>\n",
              "      <td>67.0</td>\n",
              "      <td>2145.0</td>\n",
              "      <td>18.0</td>\n",
              "      <td>80</td>\n",
              "      <td>0</td>\n",
              "      <td>1</td>\n",
              "    </tr>\n",
              "    <tr>\n",
              "      <th>...</th>\n",
              "      <td>...</td>\n",
              "      <td>...</td>\n",
              "      <td>...</td>\n",
              "      <td>...</td>\n",
              "      <td>...</td>\n",
              "      <td>...</td>\n",
              "      <td>...</td>\n",
              "      <td>...</td>\n",
              "      <td>...</td>\n",
              "    </tr>\n",
              "    <tr>\n",
              "      <th>279</th>\n",
              "      <td>19.8</td>\n",
              "      <td>6</td>\n",
              "      <td>200.0</td>\n",
              "      <td>85.0</td>\n",
              "      <td>2990.0</td>\n",
              "      <td>18.2</td>\n",
              "      <td>79</td>\n",
              "      <td>0</td>\n",
              "      <td>0</td>\n",
              "    </tr>\n",
              "    <tr>\n",
              "      <th>227</th>\n",
              "      <td>16.0</td>\n",
              "      <td>8</td>\n",
              "      <td>400.0</td>\n",
              "      <td>180.0</td>\n",
              "      <td>4220.0</td>\n",
              "      <td>11.1</td>\n",
              "      <td>77</td>\n",
              "      <td>0</td>\n",
              "      <td>0</td>\n",
              "    </tr>\n",
              "    <tr>\n",
              "      <th>148</th>\n",
              "      <td>26.0</td>\n",
              "      <td>4</td>\n",
              "      <td>108.0</td>\n",
              "      <td>93.0</td>\n",
              "      <td>2391.0</td>\n",
              "      <td>15.5</td>\n",
              "      <td>74</td>\n",
              "      <td>0</td>\n",
              "      <td>1</td>\n",
              "    </tr>\n",
              "    <tr>\n",
              "      <th>143</th>\n",
              "      <td>32.0</td>\n",
              "      <td>4</td>\n",
              "      <td>83.0</td>\n",
              "      <td>61.0</td>\n",
              "      <td>2003.0</td>\n",
              "      <td>19.0</td>\n",
              "      <td>74</td>\n",
              "      <td>0</td>\n",
              "      <td>1</td>\n",
              "    </tr>\n",
              "    <tr>\n",
              "      <th>180</th>\n",
              "      <td>28.0</td>\n",
              "      <td>4</td>\n",
              "      <td>107.0</td>\n",
              "      <td>86.0</td>\n",
              "      <td>2464.0</td>\n",
              "      <td>15.5</td>\n",
              "      <td>76</td>\n",
              "      <td>1</td>\n",
              "      <td>0</td>\n",
              "    </tr>\n",
              "  </tbody>\n",
              "</table>\n",
              "<p>314 rows × 9 columns</p>\n",
              "</div>"
            ],
            "text/plain": [
              "      mpg  cylinders  displacement     HP  ...  acceleration  modelyear  EU  Japan\n",
              "144  28.0          4          90.0   75.0  ...          14.5         74   0      0\n",
              "280  22.3          4         140.0   88.0  ...          17.3         79   0      0\n",
              "68   12.0          8         350.0  160.0  ...          13.5         72   0      0\n",
              "372  38.0          4         105.0   63.0  ...          14.7         82   0      0\n",
              "328  33.8          4          97.0   67.0  ...          18.0         80   0      1\n",
              "..    ...        ...           ...    ...  ...           ...        ...  ..    ...\n",
              "279  19.8          6         200.0   85.0  ...          18.2         79   0      0\n",
              "227  16.0          8         400.0  180.0  ...          11.1         77   0      0\n",
              "148  26.0          4         108.0   93.0  ...          15.5         74   0      1\n",
              "143  32.0          4          83.0   61.0  ...          19.0         74   0      1\n",
              "180  28.0          4         107.0   86.0  ...          15.5         76   1      0\n",
              "\n",
              "[314 rows x 9 columns]"
            ]
          },
          "metadata": {
            "tags": []
          },
          "execution_count": 25
        }
      ]
    },
    {
      "cell_type": "code",
      "metadata": {
        "id": "NMW0Z-YoyRLS"
      },
      "source": [
        "train_stats = train_x.describe().transpose()\n",
        "def normalizer(x):\n",
        "  return (x-train_stats['mean'])/train_stats['std']\n",
        "train_x_scaled = normalizer(train_x)\n",
        "test_x_scaled = normalizer(test_x)\n"
      ],
      "execution_count": 27,
      "outputs": []
    },
    {
      "cell_type": "code",
      "metadata": {
        "id": "qaF0Qq_iyb8h"
      },
      "source": [
        "# Importing the required Keras modules containing model and layers\n",
        "from tensorflow.keras.models import Sequential\n",
        "from tensorflow.keras.layers import Dense\n",
        "# TensorFlow Docs Imports for Evaluation\n",
        "import tensorflow_docs as tfdocs\n",
        "import tensorflow_docs.plots\n",
        "import tensorflow_docs.modeling"
      ],
      "execution_count": 28,
      "outputs": []
    },
    {
      "cell_type": "code",
      "metadata": {
        "id": "1OYi1lPSyivD"
      },
      "source": [
        "# Creating a Sequential Model and adding the layers\n",
        "model = Sequential()\n",
        "model.add(Dense(8,activation=tf.nn.relu, input_shape= [train_x.shape[1]])),\n",
        "model.add(Dense(32,activation=tf.nn.relu)),\n",
        "model.add(Dense(16,activation=tf.nn.relu)),\n",
        "model.add(Dense(1))"
      ],
      "execution_count": 31,
      "outputs": []
    },
    {
      "cell_type": "code",
      "metadata": {
        "colab": {
          "base_uri": "https://localhost:8080/",
          "height": 533
        },
        "id": "ueZxRbDjzBev",
        "outputId": "17239a33-643a-4084-fd47-ac8af02541c6"
      },
      "source": [
        "tf.keras.utils.plot_model(model, show_shapes=True)"
      ],
      "execution_count": 32,
      "outputs": [
        {
          "output_type": "execute_result",
          "data": {
            "image/png": "[encoded data removed]",
            "text/plain": [
              "<IPython.core.display.Image object>"
            ]
          },
          "metadata": {
            "tags": []
          },
          "execution_count": 32
        }
      ]
    },
    {
      "cell_type": "code",
      "metadata": {
        "id": "b6dEo6bWyndD"
      },
      "source": [
        "tf.keras.utils.plot_model(model, show_shapes=True)\n"
      ],
      "execution_count": null,
      "outputs": []
    }
  ]
}